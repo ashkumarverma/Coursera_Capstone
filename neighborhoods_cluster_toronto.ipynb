{
 "cells": [
  {
   "cell_type": "code",
   "execution_count": null,
   "metadata": {},
   "outputs": [],
   "source": [
    "url = 'https://en.wikipedia.org/wiki/List_of_postal_codes_of_Canada:_M'\n",
    "df_can0 = pd.read_html(url)[0]\n",
    "\n",
    "# Ignore cells with a borough that is Not assigned.\n",
    "# print(type(df_can['Borough'] != 'Not assigned')) # Series\n",
    "# print(type(df_can.loc[df_can['Borough'] != 'Not assigned', ['Postcode']])) # DataFrame\n",
    "# df_can.loc[df_can['Borough'] != 'Not assigned', ['Postcode', 'Borough', 'Neighbourhood']]\n",
    "\n",
    "# df_can1: Removed row with Borough'Not assigned'\n",
    "df_can1 = df_can0[df_can0['Borough'] != 'Not assigned']\n",
    "df_can1.head()"
   ]
  }
 ],
 "metadata": {
  "kernelspec": {
   "display_name": "Python 3",
   "language": "python",
   "name": "python3"
  },
  "language_info": {
   "codemirror_mode": {
    "name": "ipython",
    "version": 3
   },
   "file_extension": ".py",
   "mimetype": "text/x-python",
   "name": "python",
   "nbconvert_exporter": "python",
   "pygments_lexer": "ipython3",
   "version": "3.7.3"
  }
 },
 "nbformat": 4,
 "nbformat_minor": 2
}
